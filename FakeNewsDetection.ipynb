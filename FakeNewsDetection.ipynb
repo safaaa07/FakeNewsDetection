{
 "cells": [
  {
   "cell_type": "markdown",
   "id": "furnished-bouquet",
   "metadata": {},
   "source": [
    "<h1>Necessary imports</h1>"
   ]
  },
  {
   "cell_type": "code",
   "execution_count": 50,
   "id": "jewish-schedule",
   "metadata": {},
   "outputs": [],
   "source": [
    "import numpy as np\n",
    "import pandas as pd\n",
    "from sklearn.model_selection import train_test_split\n",
    "from sklearn.feature_extraction.text import TfidfVectorizer\n",
    "from sklearn.linear_model import PassiveAggressiveClassifier\n",
    "from sklearn.metrics import accuracy_score, confusion_matrix, classification_report\n",
    "import re\n",
    "import string\n",
    "from nltk.corpus import stopwords\n",
    "from nltk.tokenize import word_tokenize\n",
    "\n",
    "stop_words = set(stopwords.words('english'))"
   ]
  },
  {
   "cell_type": "markdown",
   "id": "detected-salem",
   "metadata": {},
   "source": [
    "<h1>Data</h1>"
   ]
  },
  {
   "cell_type": "code",
   "execution_count": 29,
   "id": "valuable-single",
   "metadata": {},
   "outputs": [],
   "source": [
    "data = pd.read_csv('./input/news.csv')"
   ]
  },
  {
   "cell_type": "markdown",
   "id": "electoral-reality",
   "metadata": {},
   "source": [
    "<h3>Exploring the data</h3>"
   ]
  },
  {
   "cell_type": "code",
   "execution_count": 30,
   "id": "biological-cleveland",
   "metadata": {},
   "outputs": [
    {
     "data": {
      "text/html": [
       "<div>\n",
       "<style scoped>\n",
       "    .dataframe tbody tr th:only-of-type {\n",
       "        vertical-align: middle;\n",
       "    }\n",
       "\n",
       "    .dataframe tbody tr th {\n",
       "        vertical-align: top;\n",
       "    }\n",
       "\n",
       "    .dataframe thead th {\n",
       "        text-align: right;\n",
       "    }\n",
       "</style>\n",
       "<table border=\"1\" class=\"dataframe\">\n",
       "  <thead>\n",
       "    <tr style=\"text-align: right;\">\n",
       "      <th></th>\n",
       "      <th>Unnamed: 0</th>\n",
       "      <th>title</th>\n",
       "      <th>text</th>\n",
       "      <th>label</th>\n",
       "    </tr>\n",
       "  </thead>\n",
       "  <tbody>\n",
       "    <tr>\n",
       "      <th>0</th>\n",
       "      <td>8476</td>\n",
       "      <td>You Can Smell Hillary’s Fear</td>\n",
       "      <td>Daniel Greenfield, a Shillman Journalism Fello...</td>\n",
       "      <td>FAKE</td>\n",
       "    </tr>\n",
       "    <tr>\n",
       "      <th>1</th>\n",
       "      <td>10294</td>\n",
       "      <td>Watch The Exact Moment Paul Ryan Committed Pol...</td>\n",
       "      <td>Google Pinterest Digg Linkedin Reddit Stumbleu...</td>\n",
       "      <td>FAKE</td>\n",
       "    </tr>\n",
       "    <tr>\n",
       "      <th>2</th>\n",
       "      <td>3608</td>\n",
       "      <td>Kerry to go to Paris in gesture of sympathy</td>\n",
       "      <td>U.S. Secretary of State John F. Kerry said Mon...</td>\n",
       "      <td>REAL</td>\n",
       "    </tr>\n",
       "    <tr>\n",
       "      <th>3</th>\n",
       "      <td>10142</td>\n",
       "      <td>Bernie supporters on Twitter erupt in anger ag...</td>\n",
       "      <td>— Kaydee King (@KaydeeKing) November 9, 2016 T...</td>\n",
       "      <td>FAKE</td>\n",
       "    </tr>\n",
       "    <tr>\n",
       "      <th>4</th>\n",
       "      <td>875</td>\n",
       "      <td>The Battle of New York: Why This Primary Matters</td>\n",
       "      <td>It's primary day in New York and front-runners...</td>\n",
       "      <td>REAL</td>\n",
       "    </tr>\n",
       "  </tbody>\n",
       "</table>\n",
       "</div>"
      ],
      "text/plain": [
       "   Unnamed: 0                                              title  \\\n",
       "0        8476                       You Can Smell Hillary’s Fear   \n",
       "1       10294  Watch The Exact Moment Paul Ryan Committed Pol...   \n",
       "2        3608        Kerry to go to Paris in gesture of sympathy   \n",
       "3       10142  Bernie supporters on Twitter erupt in anger ag...   \n",
       "4         875   The Battle of New York: Why This Primary Matters   \n",
       "\n",
       "                                                text label  \n",
       "0  Daniel Greenfield, a Shillman Journalism Fello...  FAKE  \n",
       "1  Google Pinterest Digg Linkedin Reddit Stumbleu...  FAKE  \n",
       "2  U.S. Secretary of State John F. Kerry said Mon...  REAL  \n",
       "3  — Kaydee King (@KaydeeKing) November 9, 2016 T...  FAKE  \n",
       "4  It's primary day in New York and front-runners...  REAL  "
      ]
     },
     "execution_count": 30,
     "metadata": {},
     "output_type": "execute_result"
    }
   ],
   "source": [
    "data.shape\n",
    "data.head()"
   ]
  },
  {
   "cell_type": "code",
   "execution_count": 31,
   "id": "requested-tension",
   "metadata": {},
   "outputs": [
    {
     "name": "stdout",
     "output_type": "stream",
     "text": [
      "<class 'pandas.core.frame.DataFrame'>\n",
      "RangeIndex: 6335 entries, 0 to 6334\n",
      "Data columns (total 4 columns):\n",
      " #   Column      Non-Null Count  Dtype \n",
      "---  ------      --------------  ----- \n",
      " 0   Unnamed: 0  6335 non-null   int64 \n",
      " 1   title       6335 non-null   object\n",
      " 2   text        6335 non-null   object\n",
      " 3   label       6335 non-null   object\n",
      "dtypes: int64(1), object(3)\n",
      "memory usage: 123.8+ KB\n"
     ]
    }
   ],
   "source": [
    "data.info()"
   ]
  },
  {
   "cell_type": "markdown",
   "id": "stone-custom",
   "metadata": {},
   "source": [
    "<h3>Cleaning the data</h3>"
   ]
  },
  {
   "cell_type": "code",
   "execution_count": 32,
   "id": "provincial-force",
   "metadata": {},
   "outputs": [
    {
     "data": {
      "text/html": [
       "<div>\n",
       "<style scoped>\n",
       "    .dataframe tbody tr th:only-of-type {\n",
       "        vertical-align: middle;\n",
       "    }\n",
       "\n",
       "    .dataframe tbody tr th {\n",
       "        vertical-align: top;\n",
       "    }\n",
       "\n",
       "    .dataframe thead th {\n",
       "        text-align: right;\n",
       "    }\n",
       "</style>\n",
       "<table border=\"1\" class=\"dataframe\">\n",
       "  <thead>\n",
       "    <tr style=\"text-align: right;\">\n",
       "      <th></th>\n",
       "      <th>text</th>\n",
       "      <th>label</th>\n",
       "    </tr>\n",
       "  </thead>\n",
       "  <tbody>\n",
       "    <tr>\n",
       "      <th>0</th>\n",
       "      <td>Daniel Greenfield, a Shillman Journalism Fello...</td>\n",
       "      <td>FAKE</td>\n",
       "    </tr>\n",
       "    <tr>\n",
       "      <th>1</th>\n",
       "      <td>Google Pinterest Digg Linkedin Reddit Stumbleu...</td>\n",
       "      <td>FAKE</td>\n",
       "    </tr>\n",
       "    <tr>\n",
       "      <th>2</th>\n",
       "      <td>U.S. Secretary of State John F. Kerry said Mon...</td>\n",
       "      <td>REAL</td>\n",
       "    </tr>\n",
       "    <tr>\n",
       "      <th>3</th>\n",
       "      <td>— Kaydee King (@KaydeeKing) November 9, 2016 T...</td>\n",
       "      <td>FAKE</td>\n",
       "    </tr>\n",
       "    <tr>\n",
       "      <th>4</th>\n",
       "      <td>It's primary day in New York and front-runners...</td>\n",
       "      <td>REAL</td>\n",
       "    </tr>\n",
       "    <tr>\n",
       "      <th>...</th>\n",
       "      <td>...</td>\n",
       "      <td>...</td>\n",
       "    </tr>\n",
       "    <tr>\n",
       "      <th>6330</th>\n",
       "      <td>The State Department told the Republican Natio...</td>\n",
       "      <td>REAL</td>\n",
       "    </tr>\n",
       "    <tr>\n",
       "      <th>6331</th>\n",
       "      <td>The ‘P’ in PBS Should Stand for ‘Plutocratic’ ...</td>\n",
       "      <td>FAKE</td>\n",
       "    </tr>\n",
       "    <tr>\n",
       "      <th>6332</th>\n",
       "      <td>Anti-Trump Protesters Are Tools of the Oligar...</td>\n",
       "      <td>FAKE</td>\n",
       "    </tr>\n",
       "    <tr>\n",
       "      <th>6333</th>\n",
       "      <td>ADDIS ABABA, Ethiopia —President Obama convene...</td>\n",
       "      <td>REAL</td>\n",
       "    </tr>\n",
       "    <tr>\n",
       "      <th>6334</th>\n",
       "      <td>Jeb Bush Is Suddenly Attacking Trump. Here's W...</td>\n",
       "      <td>REAL</td>\n",
       "    </tr>\n",
       "  </tbody>\n",
       "</table>\n",
       "<p>6335 rows × 2 columns</p>\n",
       "</div>"
      ],
      "text/plain": [
       "                                                   text label\n",
       "0     Daniel Greenfield, a Shillman Journalism Fello...  FAKE\n",
       "1     Google Pinterest Digg Linkedin Reddit Stumbleu...  FAKE\n",
       "2     U.S. Secretary of State John F. Kerry said Mon...  REAL\n",
       "3     — Kaydee King (@KaydeeKing) November 9, 2016 T...  FAKE\n",
       "4     It's primary day in New York and front-runners...  REAL\n",
       "...                                                 ...   ...\n",
       "6330  The State Department told the Republican Natio...  REAL\n",
       "6331  The ‘P’ in PBS Should Stand for ‘Plutocratic’ ...  FAKE\n",
       "6332   Anti-Trump Protesters Are Tools of the Oligar...  FAKE\n",
       "6333  ADDIS ABABA, Ethiopia —President Obama convene...  REAL\n",
       "6334  Jeb Bush Is Suddenly Attacking Trump. Here's W...  REAL\n",
       "\n",
       "[6335 rows x 2 columns]"
      ]
     },
     "execution_count": 32,
     "metadata": {},
     "output_type": "execute_result"
    }
   ],
   "source": [
    "data.columns = ['id', 'title', 'text', 'label']\n",
    "data.drop(['id', 'title'], axis = 1)"
   ]
  },
  {
   "cell_type": "code",
   "execution_count": 33,
   "id": "living-object",
   "metadata": {},
   "outputs": [
    {
     "data": {
      "text/plain": [
       "0    Daniel Greenfield, a Shillman Journalism Fello...\n",
       "1    Google Pinterest Digg Linkedin Reddit Stumbleu...\n",
       "2    U.S. Secretary of State John F. Kerry said Mon...\n",
       "3    — Kaydee King () November 9, 2016 The lesson f...\n",
       "4    It's primary day in New York and front-runners...\n",
       "5      \\nI’m not an immigrant, but my grandparents ...\n",
       "6    Share This Baylee Luciani (left), Screenshot o...\n",
       "7    A Czech stockbroker who saved more than 650 Je...\n",
       "8    Hillary Clinton and Donald Trump made some ina...\n",
       "9    Iranian negotiators reportedly have made a las...\n",
       "Name: text, dtype: object"
      ]
     },
     "execution_count": 33,
     "metadata": {},
     "output_type": "execute_result"
    }
   ],
   "source": [
    "#Remove URls\n",
    "text = data['text'].replace(r'http\\S+|www\\S+|https\\S+', '', regex=True)\n",
    "\n",
    "#Remove user @ references and # from text\n",
    "text = text.replace(r'\\@\\w+|\\#', '', regex=True)\n",
    "\n",
    "text.head(10)"
   ]
  },
  {
   "cell_type": "code",
   "execution_count": 34,
   "id": "found-entrepreneur",
   "metadata": {},
   "outputs": [
    {
     "data": {
      "text/plain": [
       "0    Daniel Greenfield a Shillman Journalism Fellow...\n",
       "1    Google Pinterest Digg Linkedin Reddit Stumbleu...\n",
       "2    US Secretary of State John F Kerry said Monday...\n",
       "3    — Kaydee King  November 9 2016 The lesson from...\n",
       "4    Its primary day in New York and frontrunners H...\n",
       "5      \\nI’m not an immigrant but my grandparents a...\n",
       "6    Share This Baylee Luciani left Screenshot of w...\n",
       "7    A Czech stockbroker who saved more than 650 Je...\n",
       "8    Hillary Clinton and Donald Trump made some ina...\n",
       "9    Iranian negotiators reportedly have made a las...\n",
       "Name: text, dtype: object"
      ]
     },
     "execution_count": 34,
     "metadata": {},
     "output_type": "execute_result"
    }
   ],
   "source": [
    "#Removing punctuation\n",
    "def remove_punctuations(text):\n",
    "    for punctuation in string.punctuation:\n",
    "        text = text.replace(punctuation, '')\n",
    "    return text\n",
    "\n",
    "text = text.apply(remove_punctuations)\n",
    "text.head(10)"
   ]
  },
  {
   "cell_type": "code",
   "execution_count": 35,
   "id": "planned-phase",
   "metadata": {},
   "outputs": [],
   "source": [
    "#Tokenize words\n",
    "tokens = text.apply(word_tokenize)"
   ]
  },
  {
   "cell_type": "code",
   "execution_count": 36,
   "id": "appointed-webcam",
   "metadata": {},
   "outputs": [
    {
     "data": {
      "text/plain": [
       "0    [Daniel, Greenfield, a, Shillman, Journalism, ...\n",
       "1    [Google, Pinterest, Digg, Linkedin, Reddit, St...\n",
       "2    [US, Secretary, of, State, John, F, Kerry, sai...\n",
       "3    [—, Kaydee, King, November, 9, 2016, The, less...\n",
       "4    [Its, primary, day, in, New, York, and, frontr...\n",
       "5    [I, ’, m, not, an, immigrant, but, my, grandpa...\n",
       "6    [Share, This, Baylee, Luciani, left, Screensho...\n",
       "7    [A, Czech, stockbroker, who, saved, more, than...\n",
       "8    [Hillary, Clinton, and, Donald, Trump, made, s...\n",
       "9    [Iranian, negotiators, reportedly, have, made,...\n",
       "Name: text, dtype: object"
      ]
     },
     "execution_count": 36,
     "metadata": {},
     "output_type": "execute_result"
    }
   ],
   "source": [
    "tokens.head(10)"
   ]
  },
  {
   "cell_type": "code",
   "execution_count": 37,
   "id": "pressing-crawford",
   "metadata": {},
   "outputs": [
    {
     "data": {
      "text/plain": [
       "0    FAKE\n",
       "1    FAKE\n",
       "2    REAL\n",
       "3    FAKE\n",
       "4    REAL\n",
       "Name: label, dtype: object"
      ]
     },
     "execution_count": 37,
     "metadata": {},
     "output_type": "execute_result"
    }
   ],
   "source": [
    "labels = data['label']\n",
    "labels.head()"
   ]
  },
  {
   "cell_type": "markdown",
   "id": "organic-christmas",
   "metadata": {},
   "source": [
    "<h1>Split the dataset into training and testing sets</h1>"
   ]
  },
  {
   "cell_type": "code",
   "execution_count": 38,
   "id": "rural-gospel",
   "metadata": {},
   "outputs": [],
   "source": [
    "x_train, x_test, y_train, y_test = train_test_split(data['text'], labels, test_size = 0.2, random_state = 7)"
   ]
  },
  {
   "cell_type": "markdown",
   "id": "atmospheric-spelling",
   "metadata": {},
   "source": [
    "<h1>TFIDF Vectorizer</h1>"
   ]
  },
  {
   "cell_type": "code",
   "execution_count": 39,
   "id": "restricted-major",
   "metadata": {},
   "outputs": [],
   "source": [
    "#Initialize a TfidfVectorizer\n",
    "tfidf_vectorizer = TfidfVectorizer(stop_words = 'english', max_df = 0.7)\n",
    "\n",
    "#Fit and transform training set, transform test set\n",
    "tfidf_train = tfidf_vectorizer.fit_transform(x_train)\n",
    "tfidf_test = tfidf_vectorizer.transform(x_test)"
   ]
  },
  {
   "cell_type": "markdown",
   "id": "hollywood-paper",
   "metadata": {},
   "source": [
    "<h1>Passive Aggressive Classifier</h1>"
   ]
  },
  {
   "cell_type": "code",
   "execution_count": 40,
   "id": "laden-viking",
   "metadata": {},
   "outputs": [
    {
     "name": "stdout",
     "output_type": "stream",
     "text": [
      "Accuracy : 92.82%\n"
     ]
    }
   ],
   "source": [
    "#PassiveAggressiveClassifier\n",
    "pac = PassiveAggressiveClassifier(max_iter = 50)\n",
    "pac.fit(tfidf_train, y_train)\n",
    "\n",
    "#Predict on test set\n",
    "y_pred = pac.predict(tfidf_test)\n",
    "\n",
    "#Accuracy\n",
    "acc_pac = accuracy_score(y_test, y_pred)\n",
    "print(f'Accuracy : {round(acc_pac*100,2)}%')"
   ]
  },
  {
   "cell_type": "code",
   "execution_count": 41,
   "id": "guided-williams",
   "metadata": {},
   "outputs": [
    {
     "data": {
      "text/plain": [
       "array([[588,  50],\n",
       "       [ 41, 588]], dtype=int64)"
      ]
     },
     "execution_count": 41,
     "metadata": {},
     "output_type": "execute_result"
    }
   ],
   "source": [
    "confusion_matrix(y_test, y_pred, labels = ['FAKE', 'REAL'])"
   ]
  },
  {
   "cell_type": "code",
   "execution_count": 42,
   "id": "hindu-upset",
   "metadata": {},
   "outputs": [
    {
     "data": {
      "image/png": "[encoded data removed]",
      "text/plain": [
       "<Figure size 432x288 with 2 Axes>"
      ]
     },
     "metadata": {
      "needs_background": "light"
     },
     "output_type": "display_data"
    }
   ],
   "source": [
    "from sklearn.metrics import plot_confusion_matrix\n",
    "import matplotlib.pyplot as plt\n",
    "\n",
    "plot_confusion_matrix(pac, tfidf_test, y_test, cmap=plt.cm.Blues)\n",
    "plt.show()"
   ]
  },
  {
   "cell_type": "code",
   "execution_count": 52,
   "id": "fitted-carbon",
   "metadata": {},
   "outputs": [
    {
     "name": "stdout",
     "output_type": "stream",
     "text": [
      "\n",
      "CLassification Report of Passive Aggressive Classifier:\n",
      "\n",
      "              precision    recall  f1-score   support\n",
      "\n",
      "        FAKE       0.93      0.92      0.93       638\n",
      "        REAL       0.92      0.93      0.93       629\n",
      "\n",
      "    accuracy                           0.93      1267\n",
      "   macro avg       0.93      0.93      0.93      1267\n",
      "weighted avg       0.93      0.93      0.93      1267\n",
      "\n"
     ]
    }
   ],
   "source": [
    "print(\"\\nCLassification Report of Passive Aggressive Classifier:\\n\")\n",
    "print(classification_report(y_test, y_pred))"
   ]
  },
  {
   "cell_type": "markdown",
   "id": "caring-formula",
   "metadata": {},
   "source": [
    "<h1>Logistic Regression</h1>"
   ]
  },
  {
   "cell_type": "code",
   "execution_count": 43,
   "id": "together-population",
   "metadata": {},
   "outputs": [
    {
     "name": "stdout",
     "output_type": "stream",
     "text": [
      "Accuracy : 91.71%\n"
     ]
    }
   ],
   "source": [
    "from sklearn.linear_model import LogisticRegression\n",
    "\n",
    "model = LogisticRegression(solver = 'lbfgs')\n",
    "model.fit(tfidf_train, y_train)\n",
    "y_predict = model.predict(tfidf_test)\n",
    "\n",
    "acc_lr = accuracy_score(y_test, y_predict)\n",
    "print(f'Accuracy : {round(acc_lr*100,2)}%')"
   ]
  },
  {
   "cell_type": "code",
   "execution_count": 44,
   "id": "abroad-watershed",
   "metadata": {},
   "outputs": [
    {
     "data": {
      "text/plain": [
       "array([[600,  38],\n",
       "       [ 67, 562]], dtype=int64)"
      ]
     },
     "execution_count": 44,
     "metadata": {},
     "output_type": "execute_result"
    }
   ],
   "source": [
    "confusion_matrix(y_test, y_predict, labels = ['FAKE', 'REAL'])"
   ]
  },
  {
   "cell_type": "code",
   "execution_count": 45,
   "id": "ranging-rough",
   "metadata": {},
   "outputs": [
    {
     "data": {
      "image/png": "[encoded data removed]",
      "text/plain": [
       "<Figure size 432x288 with 2 Axes>"
      ]
     },
     "metadata": {
      "needs_background": "light"
     },
     "output_type": "display_data"
    }
   ],
   "source": [
    "plot_confusion_matrix(model, tfidf_test, y_test, cmap=plt.cm.Blues)\n",
    "plt.show()"
   ]
  },
  {
   "cell_type": "code",
   "execution_count": 53,
   "id": "coordinate-zoning",
   "metadata": {},
   "outputs": [
    {
     "name": "stdout",
     "output_type": "stream",
     "text": [
      "\n",
      "CLassification Report of Logistic Regression Classifier:\n",
      "\n",
      "              precision    recall  f1-score   support\n",
      "\n",
      "        FAKE       0.90      0.94      0.92       638\n",
      "        REAL       0.94      0.89      0.91       629\n",
      "\n",
      "    accuracy                           0.92      1267\n",
      "   macro avg       0.92      0.92      0.92      1267\n",
      "weighted avg       0.92      0.92      0.92      1267\n",
      "\n"
     ]
    }
   ],
   "source": [
    "print(\"\\nCLassification Report of Logistic Regression Classifier:\\n\")\n",
    "print(classification_report(y_test, y_predict))"
   ]
  },
  {
   "cell_type": "markdown",
   "id": "turkish-smoke",
   "metadata": {},
   "source": [
    "<h1>Naive Bayes Classifier</h1>"
   ]
  },
  {
   "cell_type": "code",
   "execution_count": 47,
   "id": "practical-battlefield",
   "metadata": {},
   "outputs": [
    {
     "name": "stdout",
     "output_type": "stream",
     "text": [
      "Accuracy : 84.06%\n"
     ]
    }
   ],
   "source": [
    "from sklearn.naive_bayes import MultinomialNB\n",
    "\n",
    "model_nb = MultinomialNB()\n",
    "model_nb.fit(tfidf_train, y_train)\n",
    "y_pred_nb = model_nb.predict(tfidf_test)\n",
    "\n",
    "acc_nb = accuracy_score(y_test, y_pred_nb)\n",
    "print(f'Accuracy : {round(acc_nb*100,2)}%')"
   ]
  },
  {
   "cell_type": "code",
   "execution_count": 48,
   "id": "taken-cassette",
   "metadata": {},
   "outputs": [
    {
     "data": {
      "text/plain": [
       "array([[450, 188],\n",
       "       [ 14, 615]], dtype=int64)"
      ]
     },
     "execution_count": 48,
     "metadata": {},
     "output_type": "execute_result"
    }
   ],
   "source": [
    "confusion_matrix(y_test, y_pred_nb, labels = ['FAKE', 'REAL'])"
   ]
  },
  {
   "cell_type": "code",
   "execution_count": 49,
   "id": "coastal-prophet",
   "metadata": {},
   "outputs": [
    {
     "data": {
      "image/png": "[encoded data removed]",
      "text/plain": [
       "<Figure size 432x288 with 2 Axes>"
      ]
     },
     "metadata": {
      "needs_background": "light"
     },
     "output_type": "display_data"
    }
   ],
   "source": [
    "plot_confusion_matrix(model_nb, tfidf_test, y_test, cmap=plt.cm.Blues)\n",
    "plt.show()"
   ]
  },
  {
   "cell_type": "code",
   "execution_count": 54,
   "id": "strange-calcium",
   "metadata": {},
   "outputs": [
    {
     "name": "stdout",
     "output_type": "stream",
     "text": [
      "\n",
      "CLassification Report of Nive Bayes Classifier:\n",
      "\n",
      "              precision    recall  f1-score   support\n",
      "\n",
      "        FAKE       0.97      0.71      0.82       638\n",
      "        REAL       0.77      0.98      0.86       629\n",
      "\n",
      "    accuracy                           0.84      1267\n",
      "   macro avg       0.87      0.84      0.84      1267\n",
      "weighted avg       0.87      0.84      0.84      1267\n",
      "\n"
     ]
    }
   ],
   "source": [
    "print(\"\\nCLassification Report of Nive Bayes Classifier:\\n\")\n",
    "print(classification_report(y_test, y_pred_nb))"
   ]
  },
  {
   "cell_type": "markdown",
   "id": "enabling-economics",
   "metadata": {},
   "source": [
    "<h1>Support Vector Classifier</h1>"
   ]
  },
  {
   "cell_type": "code",
   "execution_count": 55,
   "id": "major-sender",
   "metadata": {},
   "outputs": [
    {
     "name": "stdout",
     "output_type": "stream",
     "text": [
      "Accuracy : 93.21%\n"
     ]
    }
   ],
   "source": [
    "from sklearn.svm import LinearSVC\n",
    "\n",
    "model_svc = LinearSVC()\n",
    "model_svc.fit(tfidf_train, y_train)\n",
    "y_pred_svc = model_svc.predict(tfidf_test)\n",
    "\n",
    "acc_svc = accuracy_score(y_test, y_pred_svc)\n",
    "print(f'Accuracy : {round(acc_svc*100,2)}%')"
   ]
  },
  {
   "cell_type": "code",
   "execution_count": 56,
   "id": "cooked-event",
   "metadata": {},
   "outputs": [
    {
     "data": {
      "text/plain": [
       "array([[603,  35],\n",
       "       [ 51, 578]], dtype=int64)"
      ]
     },
     "execution_count": 56,
     "metadata": {},
     "output_type": "execute_result"
    }
   ],
   "source": [
    "confusion_matrix(y_test, y_pred_svc, labels = ['FAKE', 'REAL'])"
   ]
  },
  {
   "cell_type": "code",
   "execution_count": 57,
   "id": "advance-aberdeen",
   "metadata": {},
   "outputs": [
    {
     "data": {
      "image/png": "[encoded data removed]",
      "text/plain": [
       "<Figure size 432x288 with 2 Axes>"
      ]
     },
     "metadata": {
      "needs_background": "light"
     },
     "output_type": "display_data"
    }
   ],
   "source": [
    "plot_confusion_matrix(model_svc, tfidf_test, y_test, cmap=plt.cm.Blues)\n",
    "plt.show()"
   ]
  },
  {
   "cell_type": "code",
   "execution_count": 58,
   "id": "treated-minneapolis",
   "metadata": {},
   "outputs": [
    {
     "name": "stdout",
     "output_type": "stream",
     "text": [
      "\n",
      "CLassification Report of Nive Bayes Classifier:\n",
      "\n",
      "              precision    recall  f1-score   support\n",
      "\n",
      "        FAKE       0.92      0.95      0.93       638\n",
      "        REAL       0.94      0.92      0.93       629\n",
      "\n",
      "    accuracy                           0.93      1267\n",
      "   macro avg       0.93      0.93      0.93      1267\n",
      "weighted avg       0.93      0.93      0.93      1267\n",
      "\n"
     ]
    }
   ],
   "source": [
    "print(\"\\nCLassification Report of Nive Bayes Classifier:\\n\")\n",
    "print(classification_report(y_test, y_pred_svc))"
   ]
  }
 ],
 "metadata": {
  "kernelspec": {
   "display_name": "Python 3",
   "language": "python",
   "name": "python3"
  },
  "language_info": {
   "codemirror_mode": {
    "name": "ipython",
    "version": 3
   },
   "file_extension": ".py",
   "mimetype": "text/x-python",
   "name": "python",
   "nbconvert_exporter": "python",
   "pygments_lexer": "ipython3",
   "version": "3.8.3"
  }
 },
 "nbformat": 4,
 "nbformat_minor": 5
}
